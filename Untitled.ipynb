{
 "cells": [
  {
   "cell_type": "code",
   "execution_count": 2,
   "id": "c3978cd9",
   "metadata": {},
   "outputs": [
    {
     "name": "stdout",
     "output_type": "stream",
     "text": [
      "\n",
      "  You can now view your Streamlit app in your browser.\n",
      "\n",
      "  Local URL: http://localhost:8504\n",
      "  Network URL: http://192.168.153.205:8504\n",
      "\n"
     ]
    },
    {
     "name": "stderr",
     "output_type": "stream",
     "text": [
      "INFO: Created TensorFlow Lite XNNPACK delegate for CPU.\n",
      "2023-04-26 14:08:21.586 Uncaught app exception\n",
      "Traceback (most recent call last):\n",
      "  File \"c:\\users\\aaryan\\anaconda3\\lib\\site-packages\\streamlit\\runtime\\scriptrunner\\script_runner.py\", line 563, in _run_script\n",
      "    exec(code, module.__dict__)\n",
      "  File \"C:\\Users\\Aaryan\\Prototypes\\Virtual Threads\\MakeUp\\VirtualMakeupAndThreads\\Web\\NEW_APP.py\", line 259, in <module>\n",
      "    image = hair(image, parsing, part, color)\n",
      "  File \"C:\\Users\\Aaryan\\Prototypes\\Virtual Threads\\MakeUp\\VirtualMakeupAndThreads\\Web\\NEW_APP.py\", line 54, in hair\n",
      "    changed = sharpen(changed)\n",
      "  File \"C:\\Users\\Aaryan\\Prototypes\\Virtual Threads\\MakeUp\\VirtualMakeupAndThreads\\Web\\NEW_APP.py\", line 29, in sharpen\n",
      "    img_out = img_out * (1 - mask_2) + mask_2\n",
      "MemoryError: Unable to allocate 24.0 MiB for an array with shape (1024, 1024, 3) and data type float64\n"
     ]
    }
   ],
   "source": [
    "!streamlit run NEW_APP.py"
   ]
  },
  {
   "cell_type": "code",
   "execution_count": null,
   "id": "081b1a0c",
   "metadata": {},
   "outputs": [],
   "source": [
    "!streamlit run app.py"
   ]
  },
  {
   "cell_type": "code",
   "execution_count": null,
   "id": "879744fb",
   "metadata": {},
   "outputs": [],
   "source": []
  }
 ],
 "metadata": {
  "kernelspec": {
   "display_name": "Python 3",
   "language": "python",
   "name": "python3"
  },
  "language_info": {
   "codemirror_mode": {
    "name": "ipython",
    "version": 3
   },
   "file_extension": ".py",
   "mimetype": "text/x-python",
   "name": "python",
   "nbconvert_exporter": "python",
   "pygments_lexer": "ipython3",
   "version": "3.8.8"
  }
 },
 "nbformat": 4,
 "nbformat_minor": 5
}
